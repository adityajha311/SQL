{
  "nbformat": 4,
  "nbformat_minor": 0,
  "metadata": {
    "colab": {
      "provenance": []
    },
    "kernelspec": {
      "name": "python3",
      "display_name": "Python 3"
    },
    "language_info": {
      "name": "python"
    }
  },
  "cells": [
    {
      "cell_type": "markdown",
      "source": [
        "Q1. Create a table called employees with the following structure\n",
        "emp_id (integer, should not be NULL and should be a primary key)\n",
        "\n",
        "emp_name (text, should not be NULL)\n",
        "\n",
        "age (integer, should have a check constraint to ensure the age is at least 18)\n",
        "\n",
        "email (text, should be unique for each employee)\n",
        "\n",
        "salary (decimal, with a default value of 30,000).\n",
        "\n",
        "Write the SQL query to create the above table with all constraints."
      ],
      "metadata": {
        "id": "OeRNewQuK2m8"
      }
    },
    {
      "cell_type": "markdown",
      "source": [
        "Answer\n",
        "CREATE TABLE employees (\n",
        "    emp_id INT PRIMARY KEY NOT NULL,\n",
        "    emp_name VARCHAR(100) NOT NULL,\n",
        "    age INT CHECK (age >= 18),\n",
        "    email VARCHAR(100) UNIQUE,\n",
        "    salary DECIMAL(10,2) DEFAULT 30000\n",
        ");\n"
      ],
      "metadata": {
        "id": "b8SC8wDKLWsi"
      }
    },
    {
      "cell_type": "markdown",
      "source": [
        "Q2. Explain the purpose of constraints and how they help maintain data integrity in a database. Provide examples of common types of constraints.\n",
        "\n",
        "Answer:\n",
        "\n",
        "Constraints enforce rules on data to maintain accuracy and consistency.\n",
        "\n",
        "PRIMARY KEY: Ensures each record is unique.\n",
        "\n",
        "FOREIGN KEY: Maintains referential integrity between tables.\n",
        "\n",
        "NOT NULL: Prevents missing values.\n",
        "\n",
        "UNIQUE: Ensures no duplicate entries.\n",
        "\n",
        "CHECK: Restricts values to certain conditions.\n",
        "\n"
      ],
      "metadata": {
        "id": "MN7FcrPrLtrt"
      }
    },
    {
      "cell_type": "markdown",
      "source": [
        "Q3. Why would you apply the NOT NULL constraint to a column? Can a primary key contain NULL values? Justify your answer.\n",
        "\n",
        "Answer:\n",
        "\n",
        "NOT NULL ensures that a column always has a value, preventing incomplete data.\n",
        "\n",
        "A Primary Key cannot contain NULL values because it must uniquely identify each record, and NULL would break uniqueness."
      ],
      "metadata": {
        "id": "cvR045E8Ptrn"
      }
    },
    {
      "cell_type": "markdown",
      "source": [
        "Q4. Explain the steps and SQL commands used to add or remove constraints on an existing table. Provide an example for both adding and removing a constraint.\n",
        "\n",
        "Answer:\n",
        "\n",
        "Add constraint:\n",
        "\n",
        "ALTER TABLE employees\n",
        "ADD CONSTRAINT chk_age CHECK (age >= 18);\n",
        "Remove constraint:\n",
        "\n",
        "ALTER TABLE employees\n",
        "DROP CONSTRAINT chk_age;"
      ],
      "metadata": {
        "id": "tjjnaOiGlc5P"
      }
    },
    {
      "cell_type": "markdown",
      "source": [
        "Q5. Explain the consequences of attempting to insert, update, or delete data in a way that violates constraints. Provide an example of an error message that might occur when violating a constraint.\n",
        "Answer:\n",
        "When a constraint is violated, the database rejects the operation and raises an error.\n",
        "\n",
        "\n",
        "INSERT INTO employees (emp_id, emp_name, age, salary)\n",
        "VALUES (1, 'John', 15, 25000);\n",
        "\n",
        " Error: CHECK constraint failed: age >= 18"
      ],
      "metadata": {
        "id": "5OE4aGwJl-jV"
      }
    },
    {
      "cell_type": "markdown",
      "source": [
        "Q6. You created a products table without constraints as follows:\n",
        "\n",
        "CREATE TABLE products (\n",
        "    product_id INT,\n",
        "    product_name VARCHAR(50),\n",
        "    price DECIMAL(10, 2)\n",
        ");\n",
        "Now, you realise that\n",
        "\n",
        "The product_id should be a primary key\n",
        "\n",
        "The price should have a default value of 50.00\n",
        "\n",
        "Answer:\n",
        "\n",
        "ALTER TABLE products\n",
        "ADD CONSTRAINT pk_product PRIMARY KEY (product_id);\n",
        "\n",
        "ALTER TABLE products\n",
        "ALTER COLUMN price SET DEFAULT 50.00;"
      ],
      "metadata": {
        "id": "2gLO6As5mXcl"
      }
    },
    {
      "cell_type": "markdown",
      "source": [
        "Q7. You have two tables:\n",
        "Write a query to fetch the student_name and class_name for each student using an INNER JOIN\n",
        "\n",
        "Answer:\n",
        "\n",
        "SELECT s.student_name, c.class_name\n",
        "FROM students s\n",
        "INNER JOIN classes c\n",
        "ON s.class_id = c.class_id;\n"
      ],
      "metadata": {
        "id": "B962stVPm3o8"
      }
    },
    {
      "cell_type": "markdown",
      "source": [
        "Q8. Consider the following three tables:\n",
        "Write a query that shows all order_id, customer_name, and product_name, ensuring that all products are listed even if they are not associated with an order.\n",
        "Hint: (use INNER JOIN and LEFT JOIN)\n",
        "\n",
        "Answer:\n",
        "\n",
        "sql\n",
        "Copy\n",
        "Edit\n",
        "SELECT o.order_id, c.customer_name, p.product_name\n",
        "FROM products p\n",
        "LEFT JOIN orders o ON p.product_id = o.product_id\n",
        "LEFT JOIN customers c ON o.customer_id = c.customer_id;"
      ],
      "metadata": {
        "id": "t0kZxutYnDfA"
      }
    },
    {
      "cell_type": "markdown",
      "source": [
        "Q9. Given the following tables:\n",
        "Write a query to find the total sales amount for each product using an INNER JOIN and the SUM() function.\n",
        "\n",
        "Answer:\n",
        "\n",
        "SELECT p.product_name, SUM(o.quantity * p.price) AS total_sales\n",
        "FROM orders o\n",
        "INNER JOIN products p ON o.product_id = p.product_id\n",
        "GROUP BY p.product_name;"
      ],
      "metadata": {
        "id": "ia2QhsQLm87r"
      }
    },
    {
      "cell_type": "markdown",
      "source": [
        "Q10. You are given three tables:\n",
        "Write a query to display the order_id, customer_name, and the quantity of products ordered by each customer using an INNER JOIN between all three tables\n",
        "\n",
        "Answer:\n",
        "\n",
        "SELECT o.order_id, c.customer_name, SUM(o.quantity) AS total_quantity\n",
        "FROM orders o\n",
        "INNER JOIN customers c ON o.customer_id = c.customer_id\n",
        "INNER JOIN products p ON o.product_id = p.product_id\n",
        "GROUP BY o.order_id, c.customer_name;\n"
      ],
      "metadata": {
        "id": "wMtUBVKanr17"
      }
    },
    {
      "cell_type": "markdown",
      "source": [
        "                                      SQL Commands"
      ],
      "metadata": {
        "id": "OkHnPC9Jn4_M"
      }
    },
    {
      "cell_type": "markdown",
      "source": [
        "Q1. Identify the primary keys and foreign keys in the Maven Movies DB.\n",
        "\n",
        "Answer:\n",
        "\n",
        "Primary Keys\n",
        "\n",
        "actor.actor_id\n",
        "\n",
        "film.film_id\n",
        "\n",
        "customer.customer_id\n",
        "\n",
        "rental.rental_id\n",
        "\n",
        "payment.payment_id\n",
        "\n",
        "inventory.inventory_id\n",
        "\n",
        "store.store_id\n",
        "\n",
        "category.category_id\n",
        "\n",
        "Foreign Keys\n",
        "\n",
        "film_actor.actor_id → actor.actor_id\n",
        "\n",
        "film_actor.film_id → film.film_id\n",
        "\n",
        "film_category.film_id → film.film_id\n",
        "\n",
        "film_category.category_id → category.category_id\n",
        "\n",
        "rental.customer_id → customer.customer_id\n",
        "\n",
        "rental.inventory_id → inventory.inventory_id\n",
        "\n",
        "inventory.film_id → film.film_id\n",
        "\n",
        "payment.rental_id → rental.rental_id\n",
        "\n",
        "payment.customer_id → customer.customer_id\n",
        "\n",
        "store.manager_staff_id → staff.staff_id"
      ],
      "metadata": {
        "id": "ikvej2N7o_XR"
      }
    },
    {
      "cell_type": "markdown",
      "source": [
        "Q2. List all details of actors.\n",
        "\n",
        "Answer:\n",
        "\n",
        "SELECT *\n",
        "FROM actor;"
      ],
      "metadata": {
        "id": "IwJAFIW_pTUr"
      }
    },
    {
      "cell_type": "markdown",
      "source": [
        "Q3. List all customer information.\n",
        "\n",
        "Answer:\n",
        "\n",
        "SELECT *\n",
        "FROM customer;"
      ],
      "metadata": {
        "id": "NTZH-PqEpm3J"
      }
    },
    {
      "cell_type": "markdown",
      "source": [
        "Q4. List different countries.\n",
        "\n",
        "Answer:\n",
        "\n",
        "SELECT DISTINCT country\n",
        "FROM country;"
      ],
      "metadata": {
        "id": "TcGhRkkBqa_N"
      }
    },
    {
      "cell_type": "markdown",
      "source": [
        "Q5. Display all active customers.\n",
        "\n",
        "Answer:\n",
        "\n",
        "SELECT customer_id, first_name, last_name, email\n",
        "FROM customer\n",
        "WHERE active = 1;\n"
      ],
      "metadata": {
        "id": "aN7dqxLNqnoB"
      }
    },
    {
      "cell_type": "markdown",
      "source": [
        "Q6. List rental IDs for customer with ID 1.\n",
        "\n",
        "Answer:\n",
        "\n",
        "SELECT rental_id\n",
        "FROM rental\n",
        "WHERE customer_id = 1"
      ],
      "metadata": {
        "id": "ODjmclD-qzWG"
      }
    },
    {
      "cell_type": "markdown",
      "source": [
        "Q7. Display all films whose rental duration is greater than 5.\n",
        "\n",
        "Answer\n",
        "\n",
        "SELECT film_id, title, rental_duration\n",
        "FROM film\n",
        "WHERE rental_duration > 5;"
      ],
      "metadata": {
        "id": "fML4lFIJrDVt"
      }
    },
    {
      "cell_type": "markdown",
      "source": [
        "Q8. Find the count of films with replacement cost between $15 and $20.\n",
        "\n",
        "Answer\n",
        "\n",
        "SELECT COUNT(*) AS film_count\n",
        "FROM film\n",
        "WHERE replacement_cost BETWEEN 15 AND 20;"
      ],
      "metadata": {
        "id": "L9qZ39i5rgJl"
      }
    },
    {
      "cell_type": "markdown",
      "source": [
        "Q9. Find the count of unique first names of actors.\n",
        "\n",
        "Answer:\n",
        "\n",
        "SELECT COUNT(DISTINCT first_name) AS unique_first_names\n",
        "FROM actor;"
      ],
      "metadata": {
        "id": "QSfNJxRprvK0"
      }
    },
    {
      "cell_type": "markdown",
      "source": [
        "Q10. Display the first 10 customers from the customer table.\n",
        "\n",
        "Answer:\n",
        "\n",
        "SELECT customer_id, first_name, last_name\n",
        "FROM customer\n",
        "LIMIT 10;\n"
      ],
      "metadata": {
        "id": "f2gEgraPsBLO"
      }
    },
    {
      "cell_type": "markdown",
      "source": [
        "Q11. Display the first 3 customers whose name starts with ‘b’.\n",
        "\n",
        "Answer\n",
        "\n",
        "SELECT customer_id, first_name, last_name\n",
        "FROM customer\n",
        "WHERE first_name LIKE 'B%'\n",
        "LIMIT 3;"
      ],
      "metadata": {
        "id": "IMBadU5GAbjR"
      }
    },
    {
      "cell_type": "markdown",
      "source": [
        "Q12. Display the first 5 movies which are rated ‘G’.\n",
        "\n",
        "Answer\n",
        "\n",
        "SELECT film_id, title, rating\n",
        "FROM film\n",
        "WHERE rating = 'G'\n",
        "LIMIT 5;"
      ],
      "metadata": {
        "id": "AHfLUkZ_Aq0Y"
      }
    },
    {
      "cell_type": "markdown",
      "source": [
        "Q13. Find all customers whose first name starts with ‘a’.\n",
        "\n",
        "Answer\n",
        "\n",
        "SELECT customer_id, first_name, last_name\n",
        "FROM customer\n",
        "WHERE first_name LIKE 'A%';"
      ],
      "metadata": {
        "id": "OahskPHTA1fZ"
      }
    },
    {
      "cell_type": "markdown",
      "source": [
        "Q14. Find all customers whose first name ends with ‘a’.\n",
        "\n",
        "Answer\n",
        "\n",
        "SELECT customer_id, first_name, last_name\n",
        "FROM customer\n",
        "WHERE first_name LIKE '%a';"
      ],
      "metadata": {
        "id": "jrL7FtqKBBuK"
      }
    },
    {
      "cell_type": "markdown",
      "source": [
        "Q15. Display the list of first names of all customers containing the character ‘NI’ together.\n",
        "\n",
        "Answer\n",
        "\n",
        "SELECT customer_id, first_name, last_name\n",
        "FROM customer\n",
        "WHERE first_name LIKE '%NI%';"
      ],
      "metadata": {
        "id": "FBETfjkIBM5N"
      }
    },
    {
      "cell_type": "markdown",
      "source": [
        "Q16. Find all customers whose first name has ‘r’ in the second position.\n",
        "\n",
        "Answer\n",
        "\n",
        "SELECT customer_id, first_name, last_name\n",
        "FROM customer\n",
        "WHERE first_name LIKE '_r%';"
      ],
      "metadata": {
        "id": "OLRcALVuCB92"
      }
    },
    {
      "cell_type": "markdown",
      "source": [
        "Q17. Find all customers whose first name starts with ‘a’ and is at least 5 characters in length.\n",
        "\n",
        "Answer\n",
        "\n",
        "SELECT customer_id, first_name, last_name\n",
        "FROM customer\n",
        "WHERE first_name LIKE 'A%'\n",
        "AND LENGTH(first_name) >= 5;"
      ],
      "metadata": {
        "id": "N3oF-NTMCNUF"
      }
    },
    {
      "cell_type": "markdown",
      "source": [
        "Q18. Find all customers whose first name starts with ‘a’ and ends with ‘o’.\n",
        "\n",
        "Answer\n",
        "\n",
        "SELECT customer_id, first_name, last_name\n",
        "FROM customer\n",
        "WHERE first_name LIKE 'A%o';"
      ],
      "metadata": {
        "id": "czLI_YuSCY5t"
      }
    },
    {
      "cell_type": "markdown",
      "source": [
        "Q19. Get the cities of customers whose first name starts with ‘a’.\n",
        "\n",
        "Answer\n",
        "\n",
        "SELECT c.first_name, ci.city\n",
        "FROM customer c\n",
        "JOIN address a ON c.address_id = a.address_id\n",
        "JOIN city ci ON a.city_id = ci.city_id\n",
        "WHERE c.first_name LIKE 'A%';"
      ],
      "metadata": {
        "id": "mkm_WFcpChZH"
      }
    },
    {
      "cell_type": "markdown",
      "source": [
        "Q20. Find all the films whose rating is either ‘PG’ or ‘PG-13’.\n",
        "\n",
        "Answer\n",
        "\n",
        "SELECT film_id, title, rating\n",
        "FROM film\n",
        "WHERE rating IN ('PG', 'PG-13');"
      ],
      "metadata": {
        "id": "VbNkhLoYCrFR"
      }
    },
    {
      "cell_type": "markdown",
      "source": [
        "Q21. Find all the films whose length is between 50 and 100.\n",
        "\n",
        "Answer\n",
        "\n",
        "SELECT film_id, title, length\n",
        "FROM film\n",
        "WHERE length BETWEEN 50 AND 100;"
      ],
      "metadata": {
        "id": "p_nYyncaC1nJ"
      }
    },
    {
      "cell_type": "markdown",
      "source": [
        "Q22. Display the top 50 actors in ascending order of their first name.\n",
        "\n",
        "Answer\n",
        "\n",
        "SELECT actor_id, first_name, last_name\n",
        "FROM actor\n",
        "ORDER BY first_name ASC\n",
        "LIMIT 50;\n"
      ],
      "metadata": {
        "id": "F6BcfQ-0DBAy"
      }
    },
    {
      "cell_type": "markdown",
      "source": [
        "Q23. List the distinct film IDs from the inventory table.\n",
        "\n",
        "Answer\n",
        "\n",
        "SELECT DISTINCT film_id\n",
        "FROM inventory;"
      ],
      "metadata": {
        "id": "jocWAhj7DJ8t"
      }
    },
    {
      "cell_type": "markdown",
      "source": [
        "                                  SQL Functions"
      ],
      "metadata": {
        "id": "EUkilSjZFN8D"
      }
    },
    {
      "cell_type": "markdown",
      "source": [
        "Q1. Find the total number of rentals in the Maven Movies DB.\n",
        "\n",
        "Answer\n",
        "\n",
        "SELECT COUNT(*) AS total_rentals\n",
        "FROM rental;"
      ],
      "metadata": {
        "id": "kM5NRJ9hFRNT"
      }
    },
    {
      "cell_type": "markdown",
      "source": [
        "Q2. Find the average rental duration of films.\n",
        "\n",
        "Answer\n",
        "\n",
        "SELECT AVG(rental_duration) AS avg_rental_duration\n",
        "FROM film;\n"
      ],
      "metadata": {
        "id": "hsA8pR0YGtzD"
      }
    },
    {
      "cell_type": "markdown",
      "source": [
        "Q3. Find the total revenue generated from all payments.\n",
        "\n",
        "Answer\n",
        "\n",
        "SELECT SUM(amount) AS total_revenue\n",
        "FROM payment;"
      ],
      "metadata": {
        "id": "UIDtGBn4G5ut"
      }
    },
    {
      "cell_type": "markdown",
      "source": [
        "Q4. Display all customer first names in uppercase.\n",
        "\n",
        "Answer\n",
        "\n",
        "SELECT UPPER(first_name) AS customer_first_name\n",
        "FROM customer;"
      ],
      "metadata": {
        "id": "6hoj6LJLHM1S"
      }
    },
    {
      "cell_type": "markdown",
      "source": [
        "Q5. Display the first 3 characters of each customer’s first name.\n",
        "\n",
        "Answer\n",
        "\n",
        "SELECT SUBSTRING(first_name, 1, 3) AS first_three_chars\n",
        "FROM customer;\n"
      ],
      "metadata": {
        "id": "ZnH1qCQ5HyJC"
      }
    },
    {
      "cell_type": "markdown",
      "source": [
        "Q6. Extract the month from the rental date in the rental table.\n",
        "\n",
        "Answer\n",
        "\n",
        "SELECT rental_id, EXTRACT(MONTH FROM rental_date) AS rental_month\n",
        "FROM rental;\n"
      ],
      "metadata": {
        "id": "N1T9HQigIHjt"
      }
    },
    {
      "cell_type": "markdown",
      "source": [
        "Q7. Find the number of rentals made by each customer (use GROUP BY).\n",
        "\n",
        "Answer\n",
        "\n",
        "SELECT customer_id, COUNT(rental_id) AS total_rentals\n",
        "FROM rental\n",
        "GROUP BY customer_id;"
      ],
      "metadata": {
        "id": "QSWqzCsnIQUj"
      }
    },
    {
      "cell_type": "markdown",
      "source": [
        "Q8. Find the total revenue generated by each store.\n",
        "\n",
        "Answer\n",
        "\n",
        "SELECT s.store_id, SUM(p.amount) AS total_revenue\n",
        "FROM payment p\n",
        "JOIN staff st ON p.staff_id = st.staff_id\n",
        "JOIN store s ON st.store_id = s.store_id\n",
        "GROUP BY s.store_id;"
      ],
      "metadata": {
        "id": "XoeJpK29IeLO"
      }
    },
    {
      "cell_type": "markdown",
      "source": [
        "                                     SQL Joins"
      ],
      "metadata": {
        "id": "g8ENe0XHInP6"
      }
    },
    {
      "cell_type": "markdown",
      "source": [
        "Q1. Write a query to display the movie title and the customer’s first and last name who rented it.\n",
        "\n",
        "Answer\n",
        "\n",
        "SELECT f.title, c.first_name, c.last_name\n",
        "FROM rental r\n",
        "JOIN inventory i ON r.inventory_id = i.inventory_id\n",
        "JOIN film f ON i.film_id = f.film_id\n",
        "JOIN customer c ON r.customer_id = c.customer_id;"
      ],
      "metadata": {
        "id": "WxErub8NI5ON"
      }
    },
    {
      "cell_type": "markdown",
      "source": [
        "Q2. Find the names of all the actors who acted in the movie ‘Gone with the Wind’.\n",
        "\n",
        "Answer\n",
        "\n",
        "SELECT a.first_name, a.last_name\n",
        "FROM actor a\n",
        "JOIN film_actor fa ON a.actor_id = fa.actor_id\n",
        "JOIN film f ON fa.film_id = f.film_id\n",
        "WHERE f.title = 'Gone with the Wind';"
      ],
      "metadata": {
        "id": "BOFmPXpYJXNR"
      }
    },
    {
      "cell_type": "markdown",
      "source": [
        "Q3. Write a query to display the first and last names of customers along with the total amount they have spent on rentals.\n",
        "\n",
        "Answer\n",
        "\n",
        "SELECT c.first_name, c.last_name, SUM(p.amount) AS total_spent\n",
        "FROM customer c\n",
        "JOIN payment p ON c.customer_id = p.customer_id\n",
        "GROUP BY c.first_name, c.last_name\n",
        "ORDER BY total_spent DESC;"
      ],
      "metadata": {
        "id": "qeVrOkj-JmYq"
      }
    },
    {
      "cell_type": "markdown",
      "source": [
        "Q4. Display the customer name and the total number of movies rented by customers living in ‘London’.\n",
        "\n",
        "Answer\n",
        "\n",
        "SELECT c.first_name, c.last_name, COUNT(r.rental_id) AS total_movies\n",
        "FROM customer c\n",
        "JOIN address a ON c.address_id = a.address_id\n",
        "JOIN city ci ON a.city_id = ci.city_id\n",
        "JOIN rental r ON c.customer_id = r.customer_id\n",
        "WHERE ci.city = 'London'\n",
        "GROUP BY c.first_name, c.last_name;"
      ],
      "metadata": {
        "id": "scnIhdjFJ6UY"
      }
    },
    {
      "cell_type": "markdown",
      "source": [
        "Q5. Write a query to display the top 5 most rented movies.\n",
        "\n",
        "Answer\n",
        "\n",
        "SELECT f.title, COUNT(r.rental_id) AS rental_count\n",
        "FROM film f\n",
        "JOIN inventory i ON f.film_id = i.film_id\n",
        "JOIN rental r ON i.inventory_id = r.inventory_id\n",
        "GROUP BY f.title\n",
        "ORDER BY rental_count DESC\n",
        "LIMIT 5;"
      ],
      "metadata": {
        "id": "4ATUmZHbKbu_"
      }
    },
    {
      "cell_type": "markdown",
      "source": [
        "Q6. Display the names of customers who have rented movies from both stores.\n",
        "\n",
        "Answer\n",
        "\n",
        "SELECT c.first_name, c.last_name\n",
        "FROM customer c\n",
        "JOIN rental r ON c.customer_id = r.customer_id\n",
        "JOIN inventory i ON r.inventory_id = i.inventory_id\n",
        "JOIN store s ON i.store_id = s.store_id\n",
        "GROUP BY c.customer_id, c.first_name, c.last_name\n",
        "HAVING COUNT(DISTINCT s.store_id) = 2;"
      ],
      "metadata": {
        "id": "sBQxGYI6K2z8"
      }
    },
    {
      "cell_type": "markdown",
      "source": [
        "                                    Window Functions"
      ],
      "metadata": {
        "id": "disqGzqwoAKK"
      }
    },
    {
      "cell_type": "markdown",
      "source": [
        "Q1. Write a query to rank customers based on the total amount they have spent, with the highest spender ranked first.\n",
        "\n",
        "Answer\n",
        "\n",
        "SELECT c.first_name, c.last_name, SUM(p.amount) AS total_spent,\n",
        "       RANK() OVER (ORDER BY SUM(p.amount) DESC) AS customer_rank\n",
        "FROM customer c\n",
        "JOIN payment p ON c.customer_id = p.customer_id\n",
        "GROUP BY c.customer_id, c.first_name, c.last_name;\n"
      ],
      "metadata": {
        "id": "r5DLNSlOopzg"
      }
    },
    {
      "cell_type": "markdown",
      "source": [
        "Q2. Write a query to calculate the cumulative revenue generated by each film.\n",
        "\n",
        "Answer\n",
        "\n",
        "SELECT f.title, SUM(p.amount) AS film_revenue,\n",
        "       SUM(SUM(p.amount)) OVER (ORDER BY f.title) AS cumulative_revenue\n",
        "FROM payment p\n",
        "JOIN rental r ON p.rental_id = r.rental_id\n",
        "JOIN inventory i ON r.inventory_id = i.inventory_id\n",
        "JOIN film f ON i.film_id = f.film_id\n",
        "GROUP BY f.title\n",
        "ORDER BY f.title;\n"
      ],
      "metadata": {
        "id": "ZK4zKhNaowLa"
      }
    },
    {
      "cell_type": "markdown",
      "source": [
        "Q3. Write a query to find the average rental duration for each film length, and compare each film’s rental duration with its category average.\n",
        "\n",
        "Answer\n",
        "\n",
        "SELECT f.title, f.length, f.rental_duration,\n",
        "       AVG(f.rental_duration) OVER (PARTITION BY f.length) AS avg_duration\n",
        "FROM film f;\n"
      ],
      "metadata": {
        "id": "rMAlCJhk1z0f"
      }
    },
    {
      "cell_type": "markdown",
      "source": [
        "Q4. Write a query to rank films within each category by their rental rate.\n",
        "\n",
        "Answer\n",
        "\n",
        "SELECT c.name AS category, f.title, f.rental_rate,\n",
        "       RANK() OVER (PARTITION BY c.name ORDER BY f.rental_rate DESC) AS film_rank\n",
        "FROM film f\n",
        "JOIN film_category fc ON f.film_id = fc.film_id\n",
        "JOIN category c ON fc.category_id = c.category_id;\n"
      ],
      "metadata": {
        "id": "oGRLoPNJ1-G1"
      }
    },
    {
      "cell_type": "markdown",
      "source": [
        "Q5. Write a query to find the monthly revenue trend for the year 2005.\n",
        "\n",
        "Answer\n",
        "\n",
        "SELECT EXTRACT(MONTH FROM p.payment_date) AS month,\n",
        "       SUM(p.amount) AS monthly_revenue\n",
        "FROM payment p\n",
        "WHERE EXTRACT(YEAR FROM p.payment_date) = 2005\n",
        "GROUP BY EXTRACT(MONTH FROM p.payment_date)\n",
        "ORDER BY month;\n"
      ],
      "metadata": {
        "id": "CaWNosJ62HeV"
      }
    },
    {
      "cell_type": "markdown",
      "source": [
        "Q6. Write a query to find the top 20% of customers based on their total spending.\n",
        "\n",
        "Answer\n",
        "\n",
        "WITH ranked_customers AS (\n",
        "    SELECT c.customer_id, c.first_name, c.last_name, SUM(p.amount) AS total_spent,\n",
        "           NTILE(5) OVER (ORDER BY SUM(p.amount) DESC) AS percentile_rank\n",
        "    FROM customer c\n",
        "    JOIN payment p ON c.customer_id = p.customer_id\n",
        "    GROUP BY c.customer_id, c.first_name, c.last_name\n",
        ")\n",
        "SELECT first_name, last_name, total_spent\n",
        "FROM ranked_customers\n",
        "WHERE percentile_rank = 1;"
      ],
      "metadata": {
        "id": "61oL6aHs2Ruh"
      }
    },
    {
      "cell_type": "markdown",
      "source": [
        "Q7. Write a query to display a running total of revenue generated over time.\n",
        "\n",
        "Answer\n",
        "\n",
        "SELECT p.payment_date, p.amount,\n",
        "       SUM(p.amount) OVER (ORDER BY p.payment_date) AS running_total\n",
        "FROM payment p\n",
        "ORDER BY p.payment_date;\n"
      ],
      "metadata": {
        "id": "orTfT5wD2bIL"
      }
    },
    {
      "cell_type": "markdown",
      "source": [
        "Q8. Write a query to find all films that have been rented less than the average number of rentals.\n",
        "\n",
        "Answer\n",
        "\n",
        "WITH film_rentals AS (\n",
        "    SELECT f.film_id, f.title, COUNT(r.rental_id) AS rental_count\n",
        "    FROM film f\n",
        "    JOIN inventory i ON f.film_id = i.film_id\n",
        "    JOIN rental r ON i.inventory_id = r.inventory_id\n",
        "    GROUP BY f.film_id, f.title\n",
        ")\n",
        "SELECT title, rental_count\n",
        "FROM film_rentals\n",
        "WHERE rental_count < (SELECT AVG(rental_count) FROM film_rentals);"
      ],
      "metadata": {
        "id": "8Hr3Hf192lkQ"
      }
    },
    {
      "cell_type": "markdown",
      "source": [
        "Q9. Write a query to display the top 5 months with the highest revenue.\n",
        "\n",
        "Answer\n",
        "\n",
        "SELECT TO_CHAR(p.payment_date, 'YYYY-MM') AS month, SUM(p.amount) AS total_revenue\n",
        "FROM payment p\n",
        "GROUP BY TO_CHAR(p.payment_date, 'YYYY-MM')\n",
        "ORDER BY total_revenue DESC\n",
        "LIMIT 5;"
      ],
      "metadata": {
        "id": "Fq9ZSJKj2t60"
      }
    },
    {
      "cell_type": "markdown",
      "source": [
        "Q10. Write a query to calculate the difference between each film’s rental count and the average rental count.\n",
        "\n",
        "Answer\n",
        "\n",
        "WITH film_counts AS (\n",
        "    SELECT f.title, COUNT(r.rental_id) AS rental_count\n",
        "    FROM film f\n",
        "    JOIN inventory i ON f.film_id = i.film_id\n",
        "    JOIN rental r ON i.inventory_id = r.inventory_id\n",
        "    GROUP BY f.title\n",
        ")\n",
        "SELECT title, rental_count,\n",
        "       rental_count - (SELECT AVG(rental_count) FROM film_counts) AS diff_from_avg\n",
        "FROM film_counts;"
      ],
      "metadata": {
        "id": "38HJPV7C3oLo"
      }
    },
    {
      "cell_type": "markdown",
      "source": [
        "                                                     Normalization & CTEs"
      ],
      "metadata": {
        "id": "gF90VWlL4Rqf"
      }
    },
    {
      "cell_type": "markdown",
      "source": [
        "Q1. Explain normalization and its different normal forms. Identify a table in the Maven Movies DB that is not normalized and explain how you would normalize it.\n",
        "\n",
        "Answer:\n",
        "\n",
        "Normalization is the process of organizing data to reduce redundancy and improve integrity.\n",
        "\n",
        "Normal Forms:\n",
        "\n",
        "1NF: Eliminate repeating groups (atomic values only).\n",
        "\n",
        "2NF: 1NF + no partial dependency on part of a composite key.\n",
        "\n",
        "3NF: 2NF + no transitive dependency.\n",
        "\n",
        "Example:\n",
        "In Maven Movies, if a table combined customer details and rental info together, it would violate 1NF.\n",
        "We normalize by splitting into separate tables:\n",
        "\n",
        "customer(customer_id, name, email, address_id)\n",
        "\n",
        "rental(rental_id, customer_id, inventory_id, rental_date)\n",
        "linked via foreign keys.\n",
        "\n"
      ],
      "metadata": {
        "id": "tLkGVTcl4V2x"
      }
    },
    {
      "cell_type": "markdown",
      "source": [
        "Q2. Write a CTE to display the total number of films each actor has acted in.\n",
        "\n",
        "Answer\n",
        "\n",
        "WITH actor_films AS (\n",
        "    SELECT a.actor_id, a.first_name, a.last_name, COUNT(fa.film_id) AS film_count\n",
        "    FROM actor a\n",
        "    JOIN film_actor fa ON a.actor_id = fa.actor_id\n",
        "    GROUP BY a.actor_id, a.first_name, a.last_name\n",
        ")\n",
        "SELECT first_name, last_name, film_count\n",
        "FROM actor_films;"
      ],
      "metadata": {
        "id": "M8zPHPe94nRQ"
      }
    },
    {
      "cell_type": "markdown",
      "source": [
        "Q3. Write a CTE to display all films along with their language.\n",
        "\n",
        "Answer\n",
        "\n",
        "WITH film_lang AS (\n",
        "    SELECT f.title, l.name AS language\n",
        "    FROM film f\n",
        "    JOIN language l ON f.language_id = l.language_id\n",
        ")\n",
        "SELECT title, language\n",
        "FROM film_lang;\n"
      ],
      "metadata": {
        "id": "lEJn4yjb4y4-"
      }
    },
    {
      "cell_type": "markdown",
      "source": [
        "Q4. Write a CTE to display the total revenue generated by each customer.\n",
        "\n",
        "Answer\n",
        "\n",
        "WITH customer_revenue AS (\n",
        "    SELECT c.customer_id, c.first_name, c.last_name, SUM(p.amount) AS total_revenue\n",
        "    FROM customer c\n",
        "    JOIN payment p ON c.customer_id = p.customer_id\n",
        "    GROUP BY c.customer_id, c.first_name, c.last_name\n",
        ")\n",
        "SELECT first_name, last_name, total_revenue\n",
        "FROM customer_revenue;"
      ],
      "metadata": {
        "id": "BvgPpRAW47gz"
      }
    },
    {
      "cell_type": "markdown",
      "source": [
        "Q5. Write a CTE to rank films based on their rental duration.\n",
        "\n",
        "Answer\n",
        "\n",
        "WITH ranked_films AS (\n",
        "    SELECT title, rental_duration,\n",
        "           RANK() OVER (ORDER BY rental_duration DESC) AS duration_rank\n",
        "    FROM film\n",
        ")\n",
        "SELECT title, rental_duration, duration_rank\n",
        "FROM ranked_films;\n"
      ],
      "metadata": {
        "id": "k0V23_O35HDo"
      }
    },
    {
      "cell_type": "markdown",
      "source": [
        "Q6. Write a CTE to display customers who have rented more than 2 movies.\n",
        "\n",
        "Answer\n",
        "\n",
        "WITH customer_rentals AS (\n",
        "    SELECT c.customer_id, c.first_name, c.last_name, COUNT(r.rental_id) AS rentals\n",
        "    FROM customer c\n",
        "    JOIN rental r ON c.customer_id = r.customer_id\n",
        "    GROUP BY c.customer_id, c.first_name, c.last_name\n",
        ")\n",
        "SELECT first_name, last_name, rentals\n",
        "FROM customer_rentals\n",
        "WHERE rentals > 2;\n"
      ],
      "metadata": {
        "id": "5M2dIjzJ5S40"
      }
    },
    {
      "cell_type": "markdown",
      "source": [
        "Q7. Write a CTE to display the number of rentals per month.\n",
        "\n",
        "Answer\n",
        "\n",
        "WITH monthly_rentals AS (\n",
        "    SELECT EXTRACT(MONTH FROM rental_date) AS month, COUNT(rental_id) AS rental_count\n",
        "    FROM rental\n",
        "    GROUP BY EXTRACT(MONTH FROM rental_date)\n",
        ")\n",
        "SELECT month, rental_count\n",
        "FROM monthly_rentals\n",
        "ORDER BY month;\n"
      ],
      "metadata": {
        "id": "yRnLVcps5eMN"
      }
    },
    {
      "cell_type": "markdown",
      "source": [
        "Q8. Write a CTE to find all pairs of actors who acted together in the same film.\n",
        "\n",
        "Answer\n",
        "\n",
        "WITH actor_pairs AS (\n",
        "    SELECT fa1.film_id, a1.first_name || ' ' || a1.last_name AS actor1,\n",
        "           a2.first_name || ' ' || a2.last_name AS actor2\n",
        "    FROM film_actor fa1\n",
        "    JOIN film_actor fa2 ON fa1.film_id = fa2.film_id AND fa1.actor_id < fa2.actor_id\n",
        "    JOIN actor a1 ON fa1.actor_id = a1.actor_id\n",
        "    JOIN actor a2 ON fa2.actor_id = a2.actor_id\n",
        ")\n",
        "SELECT film_id, actor1, actor2\n",
        "FROM actor_pairs;"
      ],
      "metadata": {
        "id": "co5wgZ3U61FE"
      }
    },
    {
      "cell_type": "markdown",
      "source": [
        "Q9. Write a recursive CTE to display all employees who report to a given manager.\n",
        "\n",
        "Answer\n",
        "\n",
        "WITH RECURSIVE employee_hierarchy AS (\n",
        "    SELECT staff_id, first_name, last_name, manager_id\n",
        "    FROM staff\n",
        "    WHERE manager_id IS NULL   -- Top manager\n",
        "    \n",
        "    UNION ALL\n",
        "    \n",
        "    SELECT s.staff_id, s.first_name, s.last_name, s.manager_id\n",
        "    FROM staff s\n",
        "    JOIN employee_hierarchy eh ON s.manager_id = eh.staff_id\n",
        ")\n",
        "SELECT *\n",
        "FROM employee_hierarchy;\n"
      ],
      "metadata": {
        "id": "smW7d1vZ67lU"
      }
    },
    {
      "cell_type": "markdown",
      "source": [
        "\n",
        "Q10. Write a CTE to find the top 3 films in each category based on rental rate.\n",
        "\n",
        "Answer\n",
        "\n",
        "WITH ranked_films AS (\n",
        "    SELECT c.name AS category, f.title, f.rental_rate,\n",
        "           RANK() OVER (PARTITION BY c.name ORDER BY f.rental_rate DESC) AS rank_no\n",
        "    FROM film f\n",
        "    JOIN film_category fc ON f.film_id = fc.film_id\n",
        "    JOIN category c ON fc.category_id = c.category_id\n",
        ")\n",
        "SELECT category, title, rental_rate\n",
        "FROM ranked_films\n",
        "WHERE rank_no <= 3;\n"
      ],
      "metadata": {
        "id": "0HhS1S4N7bs3"
      }
    },
    {
      "cell_type": "markdown",
      "source": [
        "Q11. Write a CTE to find customers who have spent more than the average amount.\n",
        "\n",
        "Answer\n",
        "\n",
        "WITH customer_spend AS (\n",
        "    SELECT c.customer_id, c.first_name, c.last_name, SUM(p.amount) AS total_spent\n",
        "    FROM customer c\n",
        "    JOIN payment p ON c.customer_id = p.customer_id\n",
        "    GROUP BY c.customer_id, c.first_name, c.last_name\n",
        ")\n",
        "SELECT first_name, last_name, total_spent\n",
        "FROM customer_spend\n",
        "WHERE total_spent > (SELECT AVG(total_spent) FROM customer_spend);"
      ],
      "metadata": {
        "id": "6JeGiARW7lmq"
      }
    },
    {
      "cell_type": "markdown",
      "source": [
        "Q12. Write a CTE to find the film that generated the maximum revenue.\n",
        "\n",
        "Answer\n",
        "\n",
        "WITH film_revenue AS (\n",
        "    SELECT f.film_id, f.title, SUM(p.amount) AS revenue\n",
        "    FROM film f\n",
        "    JOIN inventory i ON f.film_id = i.film_id\n",
        "    JOIN rental r ON i.inventory_id = r.inventory_id\n",
        "    JOIN payment p ON r.rental_id = p.rental_id\n",
        "    GROUP BY f.film_id, f.title\n",
        ")\n",
        "SELECT title, revenue\n",
        "FROM film_revenue\n",
        "ORDER BY revenue DESC\n",
        "LIMIT 1;\n"
      ],
      "metadata": {
        "id": "snBWcqNo7uqY"
      }
    }
  ]
}